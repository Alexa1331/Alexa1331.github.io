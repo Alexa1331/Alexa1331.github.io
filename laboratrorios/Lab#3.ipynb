{
  "nbformat": 4,
  "nbformat_minor": 0,
  "metadata": {
    "colab": {
      "provenance": []
    },
    "kernelspec": {
      "name": "python3",
      "display_name": "Python 3"
    },
    "language_info": {
      "name": "python"
    }
  },
  "cells": [
    {
      "cell_type": "code",
      "execution_count": 35,
      "metadata": {
        "id": "KfODb2VLHAzZ"
      },
      "outputs": [],
      "source": [
        "# Es necesaria una versión superior a Python 3.5\n",
        "\n",
        "import sys\n",
        "\n",
        "assert sys.version_info >= (3, 5)\n",
        "\n",
        "\n",
        "# Es necesaria una versión de Scikit-Learn superior a ≥0.20\n",
        "\n",
        "import sklearn\n",
        "\n",
        "assert sklearn.__version__ >= \"0.20\"\n",
        "\n",
        "\n",
        "# importaciones communes\n",
        "\n",
        "import numpy as np\n",
        "\n",
        "import os\n",
        "\n",
        "# para hacer que la salida de este código sea estable en todas las ejecuciones\n",
        "\n",
        "np.random.seed(42)\n",
        "\n",
        "# para que muestre imágenes amigables\n",
        "\n",
        "%matplotlib inline\n",
        "\n",
        "import matplotlib as mpl\n",
        "\n",
        "import matplotlib.pyplot as plt\n",
        "\n",
        "mpl.rc('axes', labelsize=14)\n",
        "\n",
        "mpl.rc('xtick', labelsize=12)\n",
        "\n",
        "mpl.rc('ytick', labelsize=12)"
      ]
    },
    {
      "cell_type": "code",
      "source": [
        "PROJECT_ROOT_DIR = \".\"\n",
        "\n",
        "CHAPTER_ID = \"clasificacion\"\n",
        "\n",
        "IMAGES_PATH = os.path.join(PROJECT_ROOT_DIR, \"imagenes\", CHAPTER_ID)\n",
        "\n",
        "os.makedirs(IMAGES_PATH, exist_ok=True)\n",
        "\n",
        "\n",
        "\n",
        "def save_fig(fig_id, tight_layout=True, fig_extension=\"jpg\", resolution=300):\n",
        "\n",
        "    path = os.path.join(IMAGES_PATH, fig_id + \".\" + fig_extension)\n",
        "\n",
        "    print(\"Imagen Guardada\", fig_id)\n",
        "\n",
        "    if tight_layout:\n",
        "\n",
        "        plt.tight_layout()\n",
        "\n",
        "    plt.savefig(path, format=fig_extension, dpi=resolution)"
      ],
      "metadata": {
        "id": "iDPPZClJHRzx"
      },
      "execution_count": 36,
      "outputs": []
    },
    {
      "cell_type": "markdown",
      "source": [
        "### **MNIST**"
      ],
      "metadata": {
        "id": "rMmYYEj0DtY4"
      }
    },
    {
      "cell_type": "markdown",
      "source": [
        "\n",
        "\n",
        "*   # *Descargar el MNIST dataset*\n",
        "\n",
        "\n"
      ],
      "metadata": {
        "id": "Li7xbMzOD0dP"
      }
    },
    {
      "cell_type": "code",
      "source": [
        "from sklearn.datasets import fetch_openml\n",
        "mnist = fetch_openml('mnist_784', version=1, as_frame=False)\n",
        "mnist.keys()"
      ],
      "metadata": {
        "colab": {
          "base_uri": "https://localhost:8080/"
        },
        "id": "yhG8ai8PHTuo",
        "outputId": "5047fdaf-2393-4db5-f643-d483d173a746"
      },
      "execution_count": 37,
      "outputs": [
        {
          "output_type": "stream",
          "name": "stderr",
          "text": [
            "/usr/local/lib/python3.10/dist-packages/sklearn/datasets/_openml.py:968: FutureWarning: The default value of `parser` will change from `'liac-arff'` to `'auto'` in 1.4. You can set `parser='auto'` to silence this warning. Therefore, an `ImportError` will be raised from 1.4 if the dataset is dense and pandas is not installed. Note that the pandas parser may return different data types. See the Notes Section in fetch_openml's API doc for details.\n",
            "  warn(\n"
          ]
        },
        {
          "output_type": "execute_result",
          "data": {
            "text/plain": [
              "dict_keys(['data', 'target', 'frame', 'categories', 'feature_names', 'target_names', 'DESCR', 'details', 'url'])"
            ]
          },
          "metadata": {},
          "execution_count": 37
        }
      ]
    },
    {
      "cell_type": "code",
      "source": [
        "X, y = mnist[\"data\"], mnist[\"target\"]\n",
        "\n",
        "X.shape"
      ],
      "metadata": {
        "colab": {
          "base_uri": "https://localhost:8080/"
        },
        "id": "G09jF9w9Hcmz",
        "outputId": "75109164-dc30-4a74-d38c-67e1c6461a96"
      },
      "execution_count": 38,
      "outputs": [
        {
          "output_type": "execute_result",
          "data": {
            "text/plain": [
              "(70000, 784)"
            ]
          },
          "metadata": {},
          "execution_count": 38
        }
      ]
    },
    {
      "cell_type": "code",
      "source": [
        "print(len(X))"
      ],
      "metadata": {
        "colab": {
          "base_uri": "https://localhost:8080/"
        },
        "id": "c4cDa64DMtLL",
        "outputId": "d482be9f-9099-4565-b53f-5ee7cdf9dfc4"
      },
      "execution_count": 39,
      "outputs": [
        {
          "output_type": "stream",
          "name": "stdout",
          "text": [
            "70000\n"
          ]
        }
      ]
    },
    {
      "cell_type": "code",
      "source": [
        "y.shape"
      ],
      "metadata": {
        "colab": {
          "base_uri": "https://localhost:8080/"
        },
        "id": "SxnMCY3JI_R3",
        "outputId": "9e8ae2ac-9076-4988-f313-c81e193cb24a"
      },
      "execution_count": 40,
      "outputs": [
        {
          "output_type": "execute_result",
          "data": {
            "text/plain": [
              "(70000,)"
            ]
          },
          "metadata": {},
          "execution_count": 40
        }
      ]
    },
    {
      "cell_type": "code",
      "source": [
        "%matplotlib inline\n",
        "import matplotlib as mpl\n",
        "import matplotlib.pyplot as plt\n",
        "\n",
        "some_digit = X[234]\n",
        "some_digit_image = some_digit.reshape(28, 28)\n",
        "plt.imshow(some_digit_image, cmap=mpl.cm.binary)\n",
        "plt.axis(\"off\")\n",
        "save_fig(\"some_digit_plot\")\n",
        "\n",
        "plt.show()"
      ],
      "metadata": {
        "colab": {
          "base_uri": "https://localhost:8080/",
          "height": 505
        },
        "id": "jiBxuKo9JBA1",
        "outputId": "77a73052-328d-4b22-aec8-a3eb689aad0e"
      },
      "execution_count": 45,
      "outputs": [
        {
          "output_type": "stream",
          "name": "stdout",
          "text": [
            "Imagen Guardada some_digit_plot\n"
          ]
        },
        {
          "output_type": "display_data",
          "data": {
            "text/plain": [
              "<Figure size 640x480 with 1 Axes>"
            ],
            "image/png": "[encoded data removed]"
          },
          "metadata": {}
        }
      ]
    },
    {
      "cell_type": "code",
      "source": [
        "y[234]"
      ],
      "metadata": {
        "colab": {
          "base_uri": "https://localhost:8080/",
          "height": 36
        },
        "id": "Uzgctn9wOe-7",
        "outputId": "800b06cf-e296-4a1f-dd1d-4c5836fda36e"
      },
      "execution_count": 42,
      "outputs": [
        {
          "output_type": "execute_result",
          "data": {
            "text/plain": [
              "'0'"
            ],
            "application/vnd.google.colaboratory.intrinsic+json": {
              "type": "string"
            }
          },
          "metadata": {},
          "execution_count": 42
        }
      ]
    },
    {
      "cell_type": "code",
      "source": [
        "y = y.astype(np.uint8)"
      ],
      "metadata": {
        "id": "rnE8sR_3OxpX"
      },
      "execution_count": 43,
      "outputs": []
    },
    {
      "cell_type": "code",
      "source": [
        "X_train, X_test, y_train, y_test = X[:60000], X[60000:], y[:60000], y[60000:]"
      ],
      "metadata": {
        "id": "oGrJsag3O2SX"
      },
      "execution_count": 44,
      "outputs": []
    },
    {
      "cell_type": "markdown",
      "source": [
        "## **Entrenamiento de un clasificador binario**"
      ],
      "metadata": {
        "id": "XpVjDAI-EPvW"
      }
    },
    {
      "cell_type": "code",
      "source": [
        "\n",
        "y_train_7 = (y_train == 7)\n",
        "\n",
        "y_test_7 = (y_test == 7)"
      ],
      "metadata": {
        "id": "LsXdUChqO3w6"
      },
      "execution_count": 46,
      "outputs": []
    },
    {
      "cell_type": "markdown",
      "source": [
        "\n",
        "\n",
        "## **Realizar dos modelos**\n",
        "\n",
        "*   **KNN**\n",
        "*   **RandomForest**\n",
        "\n",
        "\n"
      ],
      "metadata": {
        "id": "LkOX2PzRhuQ-"
      }
    },
    {
      "cell_type": "code",
      "source": [
        "from sklearn.neighbors import KNeighborsClassifier\n",
        "# Modelo KNN\n",
        "knn_clf = KNeighborsClassifier(n_neighbors=3)  # Crea el clasificador KNN con 3 vecinos\n",
        "knn_clf.fit(X_train, y_train_7)\n",
        "knn_clf.predict([some_digit])"
      ],
      "metadata": {
        "colab": {
          "base_uri": "https://localhost:8080/"
        },
        "id": "PTJ85amkQNtc",
        "outputId": "62eebe93-974f-46ed-e684-344af5ecada2"
      },
      "execution_count": 80,
      "outputs": [
        {
          "output_type": "execute_result",
          "data": {
            "text/plain": [
              "array([False])"
            ]
          },
          "metadata": {},
          "execution_count": 80
        }
      ]
    },
    {
      "cell_type": "code",
      "source": [
        "from sklearn.model_selection import cross_val_score\n",
        "\n",
        "cross_val_score(knn_clf, X_train, y_train_7, cv=3, scoring=\"accuracy\")\n",
        "\n"
      ],
      "metadata": {
        "colab": {
          "base_uri": "https://localhost:8080/"
        },
        "id": "bfnihj1HQgjn",
        "outputId": "2f808722-d63b-4b4e-b3a1-801018c6bb05"
      },
      "execution_count": 81,
      "outputs": [
        {
          "output_type": "execute_result",
          "data": {
            "text/plain": [
              "array([0.99435, 0.9922 , 0.99295])"
            ]
          },
          "metadata": {},
          "execution_count": 81
        }
      ]
    },
    {
      "cell_type": "code",
      "source": [
        "from sklearn.ensemble import RandomForestClassifier\n",
        "# Modelo RandomForest\n",
        "rf_clf = RandomForestClassifier(n_estimators=100, random_state=42)\n",
        "rf_clf.fit(X_train, y_train_7)\n",
        "rf_clf.predict([some_digit])"
      ],
      "metadata": {
        "colab": {
          "base_uri": "https://localhost:8080/"
        },
        "id": "TxCd_YWsRWmD",
        "outputId": "3e43056a-e479-4155-a6cc-5eff401247a0"
      },
      "execution_count": 51,
      "outputs": [
        {
          "output_type": "execute_result",
          "data": {
            "text/plain": [
              "array([False])"
            ]
          },
          "metadata": {},
          "execution_count": 51
        }
      ]
    },
    {
      "cell_type": "code",
      "source": [
        "from sklearn.model_selection import cross_val_score\n",
        "\n",
        "cross_val_score(rf_clf, X_train, y_train_7, cv=3, scoring=\"accuracy\")"
      ],
      "metadata": {
        "colab": {
          "base_uri": "https://localhost:8080/"
        },
        "id": "cpHypD1hRtkb",
        "outputId": "5d7bf4a6-e0ba-439e-8173-b4747cd532e8"
      },
      "execution_count": 53,
      "outputs": [
        {
          "output_type": "execute_result",
          "data": {
            "text/plain": [
              "array([0.98835, 0.988  , 0.9893 ])"
            ]
          },
          "metadata": {},
          "execution_count": 53
        }
      ]
    },
    {
      "cell_type": "markdown",
      "source": [
        "## **Crear una matriz de confusion**"
      ],
      "metadata": {
        "id": "Koq5EqnrhhmE"
      }
    },
    {
      "cell_type": "code",
      "source": [
        "from sklearn.model_selection import cross_val_predict\n",
        "\n",
        "y_train_pred = cross_val_predict(knn_clf, X_train,y_train_7, cv=3)"
      ],
      "metadata": {
        "id": "WTuNQkDPXq1Z"
      },
      "execution_count": 70,
      "outputs": []
    },
    {
      "cell_type": "code",
      "source": [
        "from sklearn.metrics import confusion_matrix\n",
        "\n",
        "confusion_matrix(y_train_7, y_train_pred)"
      ],
      "metadata": {
        "colab": {
          "base_uri": "https://localhost:8080/"
        },
        "id": "49LUfi8OX1uQ",
        "outputId": "d19ee252-6d02-41f9-a721-363dc9537890"
      },
      "execution_count": 73,
      "outputs": [
        {
          "output_type": "execute_result",
          "data": {
            "text/plain": [
              "array([[53500,   235],\n",
              "       [  175,  6090]])"
            ]
          },
          "metadata": {},
          "execution_count": 73
        }
      ]
    },
    {
      "cell_type": "code",
      "source": [
        "y_train_perfect_predictions = y_train_7\n",
        "\n",
        "confusion_matrix(y_train_7, y_train_perfect_predictions)"
      ],
      "metadata": {
        "colab": {
          "base_uri": "https://localhost:8080/"
        },
        "id": "H4xp0gq_YwN4",
        "outputId": "1ce8ebd1-1fc2-4574-e65a-bb628fc89463"
      },
      "execution_count": 74,
      "outputs": [
        {
          "output_type": "execute_result",
          "data": {
            "text/plain": [
              "array([[53735,     0],\n",
              "       [    0,  6265]])"
            ]
          },
          "metadata": {},
          "execution_count": 74
        }
      ]
    },
    {
      "cell_type": "markdown",
      "source": [
        "# **Calcular la precision, recall, threshold con precision_recall_curve()**"
      ],
      "metadata": {
        "id": "gDIIPdH0fXeq"
      }
    },
    {
      "cell_type": "markdown",
      "source": [
        "# Precision and Recall"
      ],
      "metadata": {
        "id": "aKg5YhLfGWwF"
      }
    },
    {
      "cell_type": "code",
      "source": [
        "from sklearn.metrics import precision_score, recall_score\n",
        "\n",
        "precision_score(y_train_7, y_train_pred)"
      ],
      "metadata": {
        "colab": {
          "base_uri": "https://localhost:8080/"
        },
        "id": "wHzyd-gTah5f",
        "outputId": "c4cf7991-099c-45dc-b8d8-e9d70a653c0a"
      },
      "execution_count": 82,
      "outputs": [
        {
          "output_type": "execute_result",
          "data": {
            "text/plain": [
              "0.9628458498023715"
            ]
          },
          "metadata": {},
          "execution_count": 82
        }
      ]
    },
    {
      "cell_type": "code",
      "source": [
        "cm = confusion_matrix(y_train_7, y_train_pred)\n",
        "cm[1, 1] / (cm[0, 1] + cm[1, 1])"
      ],
      "metadata": {
        "colab": {
          "base_uri": "https://localhost:8080/"
        },
        "id": "-vTwQa33kwOE",
        "outputId": "cf8dfd49-5c10-40a2-d759-43e72c69ccbb"
      },
      "execution_count": 83,
      "outputs": [
        {
          "output_type": "execute_result",
          "data": {
            "text/plain": [
              "0.9628458498023715"
            ]
          },
          "metadata": {},
          "execution_count": 83
        }
      ]
    },
    {
      "cell_type": "code",
      "source": [
        "recall_score(y_train_7, y_train_pred)"
      ],
      "metadata": {
        "colab": {
          "base_uri": "https://localhost:8080/"
        },
        "id": "hSCnuyGzjixp",
        "outputId": "201720f2-6882-4803-cc4d-526fc8cfb2b5"
      },
      "execution_count": 84,
      "outputs": [
        {
          "output_type": "execute_result",
          "data": {
            "text/plain": [
              "0.9720670391061452"
            ]
          },
          "metadata": {},
          "execution_count": 84
        }
      ]
    },
    {
      "cell_type": "code",
      "source": [
        "cm[1, 1] / (cm[1, 0] + cm[1, 1])"
      ],
      "metadata": {
        "colab": {
          "base_uri": "https://localhost:8080/"
        },
        "id": "or7zOtP6k1HL",
        "outputId": "2215ad48-5f35-4075-cffe-ac5f8cee4e15"
      },
      "execution_count": 85,
      "outputs": [
        {
          "output_type": "execute_result",
          "data": {
            "text/plain": [
              "0.9720670391061452"
            ]
          },
          "metadata": {},
          "execution_count": 85
        }
      ]
    },
    {
      "cell_type": "code",
      "source": [
        "from sklearn.metrics import f1_score\n",
        "\n",
        "f1_score(y_train_7, y_train_pred)"
      ],
      "metadata": {
        "colab": {
          "base_uri": "https://localhost:8080/"
        },
        "id": "OdCLQqk_jpLU",
        "outputId": "c60f20f3-0e66-4000-a520-ac35c0d29675"
      },
      "execution_count": 86,
      "outputs": [
        {
          "output_type": "execute_result",
          "data": {
            "text/plain": [
              "0.9674344718030183"
            ]
          },
          "metadata": {},
          "execution_count": 86
        }
      ]
    },
    {
      "cell_type": "code",
      "source": [
        "cm[1, 1] / (cm[1, 1] + (cm[1, 0] + cm[0, 1]) / 2)"
      ],
      "metadata": {
        "colab": {
          "base_uri": "https://localhost:8080/"
        },
        "id": "mwUvFD4HlH8v",
        "outputId": "d74b71b2-9fed-4323-b295-b5467bd1d4f5"
      },
      "execution_count": 87,
      "outputs": [
        {
          "output_type": "execute_result",
          "data": {
            "text/plain": [
              "0.9674344718030182"
            ]
          },
          "metadata": {},
          "execution_count": 87
        }
      ]
    },
    {
      "cell_type": "markdown",
      "source": [
        "# Precision/Recall Trade-off"
      ],
      "metadata": {
        "id": "wOSPV8KbGoJB"
      }
    },
    {
      "cell_type": "code",
      "source": [
        "from sklearn.neighbors import KNeighborsClassifier\n",
        "from sklearn.metrics import precision_recall_curve\n",
        "from sklearn.model_selection import cross_val_predict\n",
        "import numpy as np"
      ],
      "metadata": {
        "id": "vXG44LNTr7Mr"
      },
      "execution_count": 99,
      "outputs": []
    },
    {
      "cell_type": "code",
      "source": [
        "some_digit = X_test[0]\n",
        "y_scores = knn_clf.predict_proba([some_digit])[:, 1]\n",
        "print(y_scores)"
      ],
      "metadata": {
        "colab": {
          "base_uri": "https://localhost:8080/"
        },
        "id": "CkMpm5ZDXN5A",
        "outputId": "bc89105e-b397-45cd-9a50-45014e536e89"
      },
      "execution_count": 100,
      "outputs": [
        {
          "output_type": "stream",
          "name": "stdout",
          "text": [
            "[1.]\n"
          ]
        }
      ]
    },
    {
      "cell_type": "code",
      "source": [
        "threshold = 0\n",
        "y_some_digit_pred = (y_scores > threshold)\n",
        "print(y_some_digit_pred)"
      ],
      "metadata": {
        "colab": {
          "base_uri": "https://localhost:8080/"
        },
        "id": "kGJmeUcGYEhF",
        "outputId": "9970ef9d-9afc-4955-fead-c91cb1cd99ce"
      },
      "execution_count": 101,
      "outputs": [
        {
          "output_type": "stream",
          "name": "stdout",
          "text": [
            "[ True]\n"
          ]
        }
      ]
    },
    {
      "cell_type": "code",
      "source": [
        "threshold = 0.8\n",
        "y_some_digit_pred = (y_scores > threshold)\n",
        "print(y_some_digit_pred)"
      ],
      "metadata": {
        "colab": {
          "base_uri": "https://localhost:8080/"
        },
        "id": "fnbMPpozYQ_u",
        "outputId": "cbc75e36-fb17-40db-acf8-e8d243cba148"
      },
      "execution_count": 102,
      "outputs": [
        {
          "output_type": "stream",
          "name": "stdout",
          "text": [
            "[ True]\n"
          ]
        }
      ]
    },
    {
      "cell_type": "code",
      "source": [
        "y_scores = cross_val_predict(knn_clf, X_train, y_train_7, cv=3, method=\"predict_proba\")[:, 1]"
      ],
      "metadata": {
        "id": "kLe1GVy1YTHI"
      },
      "execution_count": 104,
      "outputs": []
    },
    {
      "cell_type": "code",
      "source": [
        "precisions, recalls, thresholds = precision_recall_curve(y_train_7, y_scores)"
      ],
      "metadata": {
        "id": "9sNgP8fgYV9C"
      },
      "execution_count": 106,
      "outputs": []
    },
    {
      "cell_type": "markdown",
      "source": [
        "## **Graficar precision vs recall**"
      ],
      "metadata": {
        "id": "I7-iIUeUf0gj"
      }
    },
    {
      "cell_type": "code",
      "source": [
        "def plot_precision_vs_recall(precisions, recalls):\n",
        "\n",
        "    plt.plot(recalls, precisions, \"b-\", linewidth=2)\n",
        "\n",
        "    plt.xlabel(\"Recuerdo\", fontsize=16)\n",
        "\n",
        "    plt.ylabel(\"Precision\", fontsize=16)\n",
        "\n",
        "    plt.axis([0, 1, 0, 1])\n",
        "\n",
        "    plt.grid(True)\n",
        "\n",
        "\n",
        "\n",
        "plt.figure(figsize=(8, 6))\n",
        "\n",
        "plot_precision_vs_recall(precisions, recalls)\n",
        "\n",
        "plt.plot([0.5123, 0.5123], [0., 0.975], \"r:\")\n",
        "\n",
        "plt.plot([0.0, 0.5123], [0.975, 0.975], \"r:\")\n",
        "\n",
        "plt.plot([0.5123], [0.975], \"ro\")\n",
        "\n",
        "save_fig(\"precision_vs_recall_plot\")\n",
        "\n",
        "plt.show()"
      ],
      "metadata": {
        "colab": {
          "base_uri": "https://localhost:8080/",
          "height": 625
        },
        "id": "7SCbgGdTZAf2",
        "outputId": "beea4d95-a2e6-435f-f1c5-b9b085f7debf"
      },
      "execution_count": 107,
      "outputs": [
        {
          "output_type": "stream",
          "name": "stdout",
          "text": [
            "Imagen Guardada precision_vs_recall_plot\n"
          ]
        },
        {
          "output_type": "display_data",
          "data": {
            "text/plain": [
              "<Figure size 800x600 with 1 Axes>"
            ],
            "image/png": "[encoded data removed]"
          },
          "metadata": {}
        }
      ]
    },
    {
      "cell_type": "code",
      "source": [
        "threshold_90_precision = thresholds[np.argmax(precisions >= 0.90)]\n",
        "\n",
        "threshold_90_precision"
      ],
      "metadata": {
        "colab": {
          "base_uri": "https://localhost:8080/"
        },
        "id": "3bVVGLWBau8T",
        "outputId": "5f68d5a6-8f18-4458-b444-39b2a0741980"
      },
      "execution_count": 109,
      "outputs": [
        {
          "output_type": "execute_result",
          "data": {
            "text/plain": [
              "0.6666666666666666"
            ]
          },
          "metadata": {},
          "execution_count": 109
        }
      ]
    },
    {
      "cell_type": "code",
      "source": [
        "y_train_pred_90 = (y_scores >= threshold_90_precision)\n",
        "\n",
        "precision_score(y_train_7, y_train_pred_90)"
      ],
      "metadata": {
        "colab": {
          "base_uri": "https://localhost:8080/"
        },
        "id": "hJg0ie61a3or",
        "outputId": "52c7be15-457e-47df-ae8b-1f80202ed292"
      },
      "execution_count": 110,
      "outputs": [
        {
          "output_type": "execute_result",
          "data": {
            "text/plain": [
              "0.9628458498023715"
            ]
          },
          "metadata": {},
          "execution_count": 110
        }
      ]
    },
    {
      "cell_type": "code",
      "source": [
        "recall_score(y_train_7, y_train_pred_90)"
      ],
      "metadata": {
        "colab": {
          "base_uri": "https://localhost:8080/"
        },
        "id": "pvQ2sq_Fa87s",
        "outputId": "80c2b6b2-a55e-4149-b757-be2fe13e297f"
      },
      "execution_count": 111,
      "outputs": [
        {
          "output_type": "execute_result",
          "data": {
            "text/plain": [
              "0.9720670391061452"
            ]
          },
          "metadata": {},
          "execution_count": 111
        }
      ]
    },
    {
      "cell_type": "markdown",
      "source": [
        "# **Graficar precision vs threshold**"
      ],
      "metadata": {
        "id": "iwiaY16ggLJr"
      }
    },
    {
      "cell_type": "code",
      "source": [
        "def plot_precision_vs_threshold(precisions, thresholds):\n",
        "    plt.plot(thresholds, precisions, \"b-\", linewidth=2)\n",
        "    plt.xlabel(\"Threshold\", fontsize=16)\n",
        "    plt.ylabel(\"Precision\", fontsize=16)\n",
        "    plt.axis([0, 1, 0, 1])\n",
        "    plt.grid(True)\n",
        "\n",
        "plt.figure(figsize=(8, 6))\n",
        "plot_precision_vs_threshold(precisions, thresholds)\n",
        "plt.plot([0.5123, 0.5123], [0., 0.975], \"r:\")\n",
        "plt.plot([0.0, 0.5123], [0.975, 0.975], \"r:\")\n",
        "plt.plot([0.5123], [0.975], \"ro\")\n",
        "plt.show()\n"
      ],
      "metadata": {
        "colab": {
          "base_uri": "https://localhost:8080/",
          "height": 559
        },
        "id": "3Q1agP2AbDEg",
        "outputId": "261fb170-eb81-4347-cdf8-be2012376cf4"
      },
      "execution_count": 163,
      "outputs": [
        {
          "output_type": "display_data",
          "data": {
            "text/plain": [
              "<Figure size 800x600 with 1 Axes>"
            ],
            "image/png": "[encoded data removed]"
          },
          "metadata": {}
        }
      ]
    },
    {
      "cell_type": "markdown",
      "source": [
        "## **Graficar recall vs threshold**"
      ],
      "metadata": {
        "id": "T5mQ58ZYgVj_"
      }
    },
    {
      "cell_type": "code",
      "source": [
        "def plot_recall_vs_threshold(recalls, thresholds):\n",
        "    plt.plot(thresholds, recalls, \"b-\", linewidth=2)\n",
        "    plt.xlabel(\"Threshold\", fontsize=16)\n",
        "    plt.ylabel(\"Recall\", fontsize=16)\n",
        "    plt.axis([0, 1, 0, 1])\n",
        "    plt.grid(True)\n",
        "\n",
        "plt.figure(figsize=(8, 6))\n",
        "plot_recall_vs_threshold(recalls, thresholds)\n",
        "plt.plot([0.5123, 0.5123], [0., 0.975], \"r:\")\n",
        "plt.plot([0.0, 0.5123], [0.975, 0.975], \"r:\")\n",
        "plt.plot([0.5123], [0.975], \"ro\")\n",
        "plt.show()"
      ],
      "metadata": {
        "colab": {
          "base_uri": "https://localhost:8080/",
          "height": 559
        },
        "id": "pDDN22m0cen0",
        "outputId": "ff354407-b63e-46f9-962a-2fa3df8e57b2"
      },
      "execution_count": 164,
      "outputs": [
        {
          "output_type": "display_data",
          "data": {
            "text/plain": [
              "<Figure size 800x600 with 1 Axes>"
            ],
            "image/png": "[encoded data removed]"
          },
          "metadata": {}
        }
      ]
    },
    {
      "cell_type": "markdown",
      "source": [
        "# **Graficar curva ROC**"
      ],
      "metadata": {
        "id": "Xtam4VhmggFn"
      }
    },
    {
      "cell_type": "code",
      "source": [
        "from sklearn.metrics import roc_curve\n",
        "\n",
        "fpr, tpr, thresholds = roc_curve(y_train_7, y_scores)\n",
        "\n",
        "def muestra_curva_roc(fpr, tpr, label=None):\n",
        "    plt.plot(fpr, tpr, linewidth=2, label=label)\n",
        "    plt.plot([0, 1], [0, 1], 'k--') # diagonal de puntos\n",
        "    plt.axis([0, 1, 0, 1])\n",
        "    plt.xlabel('Tasa de falsos positivos', fontsize=16)\n",
        "    plt.ylabel('Tasa positiva verdadera (Recall)', fontsize=16)\n",
        "    plt.grid(True)\n",
        "\n",
        "plt.figure(figsize=(8, 6))\n",
        "muestra_curva_roc(fpr, tpr)\n",
        "\n",
        "plt.plot([5.837e-3, 5.837e-3], [0., 0.75], \"r:\")\n",
        "plt.plot([0.0, 5.837e-3], [0.75, 0.75], \"r:\")\n",
        "plt.plot([5.837e-3], [0.75], \"ro\")\n",
        "\n",
        "save_fig(\"curva_roc\")\n",
        "plt.show()\n"
      ],
      "metadata": {
        "colab": {
          "base_uri": "https://localhost:8080/",
          "height": 625
        },
        "id": "NksEv-AkfQRE",
        "outputId": "88e715d0-3963-413e-a636-d02e5e1bc2f4"
      },
      "execution_count": 150,
      "outputs": [
        {
          "output_type": "stream",
          "name": "stdout",
          "text": [
            "Imagen Guardada curva_roc\n"
          ]
        },
        {
          "output_type": "display_data",
          "data": {
            "text/plain": [
              "<Figure size 800x600 with 1 Axes>"
            ],
            "image/png": "[encoded data removed]"
          },
          "metadata": {}
        }
      ]
    },
    {
      "cell_type": "code",
      "source": [
        "from sklearn.metrics import roc_auc_score\n",
        "\n",
        "roc_auc_score(y_train_7, y_scores)"
      ],
      "metadata": {
        "colab": {
          "base_uri": "https://localhost:8080/"
        },
        "id": "gyJ8PTVtjsAS",
        "outputId": "fa603c37-0020-4a4a-a111-e0a94fc6652b"
      },
      "execution_count": 152,
      "outputs": [
        {
          "output_type": "execute_result",
          "data": {
            "text/plain": [
              "0.9931082977851388"
            ]
          },
          "metadata": {},
          "execution_count": 152
        }
      ]
    },
    {
      "cell_type": "code",
      "source": [
        "from sklearn.ensemble import RandomForestClassifier\n",
        "\n",
        "forest_clf = RandomForestClassifier(n_estimators=100, random_state=42)\n",
        "\n",
        "y_probas_forest = cross_val_predict(forest_clf, X_train, y_train_7, cv=3, method=\"predict_proba\")"
      ],
      "metadata": {
        "id": "NMgOUnlij0A-"
      },
      "execution_count": 153,
      "outputs": []
    },
    {
      "cell_type": "code",
      "source": [
        "plt.figure(figsize=(8, 6))\n",
        "\n",
        "plt.plot(fpr, tpr, \"b:\", linewidth=2, label=\"SGD\")\n",
        "plt.plot(fpr_forest, tpr_forest, \"g-\", linewidth=2, label=\"Random Forest\")\n",
        "\n",
        "plt.plot([5.837e-3, 5.837e-3], [0., 0.75], \"r:\")\n",
        "plt.plot([0.0, 5.837e-3], [0.75, 0.75], \"r:\")\n",
        "plt.plot([5.837e-3], [0.75], \"ro\")\n",
        "\n",
        "plt.plot([5.837e-3, 5.837e-3], [0., 0.9487], \"r:\")\n",
        "plt.plot([5.837e-3], [0.9487], \"ro\")\n",
        "\n",
        "plt.grid(True)\n",
        "plt.legend(loc=\"lower right\", fontsize=16)\n",
        "\n",
        "plt.xlabel(\"False Positive Rate\", fontsize=16)\n",
        "plt.ylabel(\"True Positive Rate (Recall)\", fontsize=16)\n",
        "\n",
        "plt.savefig(\"comparacion_curva_roc.png\")\n",
        "plt.show()\n"
      ],
      "metadata": {
        "colab": {
          "base_uri": "https://localhost:8080/",
          "height": 552
        },
        "id": "xnMFz-EtkNnH",
        "outputId": "6dda6366-0379-4f30-b2ee-45b97e549b6a"
      },
      "execution_count": 157,
      "outputs": [
        {
          "output_type": "display_data",
          "data": {
            "text/plain": [
              "<Figure size 800x600 with 1 Axes>"
            ],
            "image/png": "[encoded data removed]"
          },
          "metadata": {}
        }
      ]
    },
    {
      "cell_type": "code",
      "source": [
        "roc_auc_score(y_train_7, y_scores_forest)"
      ],
      "metadata": {
        "colab": {
          "base_uri": "https://localhost:8080/"
        },
        "id": "ISPyRnPrlAnH",
        "outputId": "3b9325ef-ca9d-4940-be6e-40bd83b0a708"
      },
      "execution_count": 158,
      "outputs": [
        {
          "output_type": "execute_result",
          "data": {
            "text/plain": [
              "0.9982747530426836"
            ]
          },
          "metadata": {},
          "execution_count": 158
        }
      ]
    },
    {
      "cell_type": "code",
      "source": [
        "y_train_pred_forest = cross_val_predict(forest_clf, X_train, y_train_7, cv=3)\n",
        "precision_score(y_train_7, y_train_pred_forest)"
      ],
      "metadata": {
        "colab": {
          "base_uri": "https://localhost:8080/"
        },
        "id": "_byopZrYlBL6",
        "outputId": "8d023336-1dc2-41f0-f5aa-26e8aad945b6"
      },
      "execution_count": 160,
      "outputs": [
        {
          "output_type": "execute_result",
          "data": {
            "text/plain": [
              "0.9867364746945899"
            ]
          },
          "metadata": {},
          "execution_count": 160
        }
      ]
    },
    {
      "cell_type": "code",
      "source": [
        "recall_score(y_train_7, y_train_pred_forest)"
      ],
      "metadata": {
        "colab": {
          "base_uri": "https://localhost:8080/"
        },
        "id": "WkIJRc6ElEas",
        "outputId": "037e9b62-9197-42bf-bca7-b33d6d149291"
      },
      "execution_count": 161,
      "outputs": [
        {
          "output_type": "execute_result",
          "data": {
            "text/plain": [
              "0.9024740622505986"
            ]
          },
          "metadata": {},
          "execution_count": 161
        }
      ]
    }
  ]
}