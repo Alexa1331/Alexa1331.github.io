{
  "nbformat": 4,
  "nbformat_minor": 0,
  "metadata": {
    "colab": {
      "provenance": []
    },
    "kernelspec": {
      "name": "python3",
      "display_name": "Python 3"
    },
    "language_info": {
      "name": "python"
    }
  },
  "cells": [
    {
      "cell_type": "code",
      "source": [
        "# Importar bibliotecas necesarias\n",
        "import pandas as pd\n",
        "import numpy as np\n",
        "from sklearn.model_selection import train_test_split\n",
        "from sklearn.linear_model import LinearRegression, Ridge, Lasso\n",
        "from sklearn.ensemble import RandomForestRegressor\n",
        "from sklearn.metrics import mean_squared_error\n",
        "from sklearn.model_selection import GridSearchCV\n",
        "from sklearn.feature_selection import SelectFromModel\n",
        "\n",
        "# Documentación del proyecto\n",
        "\"\"\"\n",
        "Proyecto: Predicción de duración de viajes en la ciudad de Nueva York\n",
        "Autor: Julio Mela\n",
        "Fecha: 4/7/2023\n",
        "\"\"\"\n"
      ],
      "metadata": {
        "colab": {
          "base_uri": "https://localhost:8080/",
          "height": 35
        },
        "id": "ju8ml-GHhEjo",
        "outputId": "007544c6-aa1e-4410-babe-27eeac29c90a"
      },
      "execution_count": 1,
      "outputs": [
        {
          "output_type": "execute_result",
          "data": {
            "text/plain": [
              "'\\nProyecto: Predicción de duración de viajes en la ciudad de Nueva York\\nAutor: Julio Mela\\nFecha: 4/7/2023\\n'"
            ],
            "application/vnd.google.colaboratory.intrinsic+json": {
              "type": "string"
            }
          },
          "metadata": {},
          "execution_count": 1
        }
      ]
    },
    {
      "cell_type": "code",
      "execution_count": 2,
      "metadata": {
        "id": "jkITEOTzfCn5"
      },
      "outputs": [],
      "source": [
        "# Cargar el conjunto de datos\n",
        "data = pd.read_csv('/content/drive/MyDrive/tarea 3 IA/nyc_taxi_trip_duration.csv')"
      ]
    },
    {
      "cell_type": "code",
      "source": [
        "data.shape\n",
        "print (\"columnas del conjunto de datos\")\n",
        "print (data.columns)"
      ],
      "metadata": {
        "colab": {
          "base_uri": "https://localhost:8080/",
          "height": 0
        },
        "id": "UHuho7s96-SO",
        "outputId": "9c447dfc-730c-4a19-be4c-c5dd32fe9848"
      },
      "execution_count": 4,
      "outputs": [
        {
          "output_type": "stream",
          "name": "stdout",
          "text": [
            "columnas del conjunto de datos\n",
            "Index(['id', 'vendor_id', 'pickup_datetime', 'dropoff_datetime',\n",
            "       'passenger_count', 'pickup_longitude', 'pickup_latitude',\n",
            "       'dropoff_longitude', 'dropoff_latitude', 'store_and_fwd_flag',\n",
            "       'trip_duration'],\n",
            "      dtype='object')\n"
          ]
        }
      ]
    },
    {
      "cell_type": "code",
      "source": [
        "data.dtypes"
      ],
      "metadata": {
        "colab": {
          "base_uri": "https://localhost:8080/",
          "height": 0
        },
        "id": "if9AUj-Q7UDx",
        "outputId": "374fe958-61be-4774-df2c-11ff9283b79f"
      },
      "execution_count": 5,
      "outputs": [
        {
          "output_type": "execute_result",
          "data": {
            "text/plain": [
              "id                     object\n",
              "vendor_id               int64\n",
              "pickup_datetime        object\n",
              "dropoff_datetime       object\n",
              "passenger_count         int64\n",
              "pickup_longitude      float64\n",
              "pickup_latitude       float64\n",
              "dropoff_longitude     float64\n",
              "dropoff_latitude      float64\n",
              "store_and_fwd_flag     object\n",
              "trip_duration           int64\n",
              "dtype: object"
            ]
          },
          "metadata": {},
          "execution_count": 5
        }
      ]
    },
    {
      "cell_type": "code",
      "source": [
        "data.head()"
      ],
      "metadata": {
        "colab": {
          "base_uri": "https://localhost:8080/",
          "height": 206
        },
        "id": "_sQxj8Jm7cm1",
        "outputId": "b8a30205-be57-4557-c32b-20fcf0d863c6"
      },
      "execution_count": 6,
      "outputs": [
        {
          "output_type": "execute_result",
          "data": {
            "text/plain": [
              "          id  vendor_id      pickup_datetime     dropoff_datetime  \\\n",
              "0  id1080784          2  2016-02-29 16:40:21  2016-02-29 16:47:01   \n",
              "1  id0889885          1  2016-03-11 23:35:37  2016-03-11 23:53:57   \n",
              "2  id0857912          2  2016-02-21 17:59:33  2016-02-21 18:26:48   \n",
              "3  id3744273          2  2016-01-05 09:44:31  2016-01-05 10:03:32   \n",
              "4  id0232939          1  2016-02-17 06:42:23  2016-02-17 06:56:31   \n",
              "\n",
              "   passenger_count  pickup_longitude  pickup_latitude  dropoff_longitude  \\\n",
              "0                1        -73.953918        40.778873         -73.963875   \n",
              "1                2        -73.988312        40.731743         -73.994751   \n",
              "2                2        -73.997314        40.721458         -73.948029   \n",
              "3                6        -73.961670        40.759720         -73.956779   \n",
              "4                1        -74.017120        40.708469         -73.988182   \n",
              "\n",
              "   dropoff_latitude store_and_fwd_flag  trip_duration  \n",
              "0         40.771164                  N            400  \n",
              "1         40.694931                  N           1100  \n",
              "2         40.774918                  N           1635  \n",
              "3         40.780628                  N           1141  \n",
              "4         40.740631                  N            848  "
            ],
            "text/html": [
              "\n",
              "  <div id=\"df-6fddd299-1c22-4b02-94c0-0d438cae27fe\">\n",
              "    <div class=\"colab-df-container\">\n",
              "      <div>\n",
              "<style scoped>\n",
              "    .dataframe tbody tr th:only-of-type {\n",
              "        vertical-align: middle;\n",
              "    }\n",
              "\n",
              "    .dataframe tbody tr th {\n",
              "        vertical-align: top;\n",
              "    }\n",
              "\n",
              "    .dataframe thead th {\n",
              "        text-align: right;\n",
              "    }\n",
              "</style>\n",
              "<table border=\"1\" class=\"dataframe\">\n",
              "  <thead>\n",
              "    <tr style=\"text-align: right;\">\n",
              "      <th></th>\n",
              "      <th>id</th>\n",
              "      <th>vendor_id</th>\n",
              "      <th>pickup_datetime</th>\n",
              "      <th>dropoff_datetime</th>\n",
              "      <th>passenger_count</th>\n",
              "      <th>pickup_longitude</th>\n",
              "      <th>pickup_latitude</th>\n",
              "      <th>dropoff_longitude</th>\n",
              "      <th>dropoff_latitude</th>\n",
              "      <th>store_and_fwd_flag</th>\n",
              "      <th>trip_duration</th>\n",
              "    </tr>\n",
              "  </thead>\n",
              "  <tbody>\n",
              "    <tr>\n",
              "      <th>0</th>\n",
              "      <td>id1080784</td>\n",
              "      <td>2</td>\n",
              "      <td>2016-02-29 16:40:21</td>\n",
              "      <td>2016-02-29 16:47:01</td>\n",
              "      <td>1</td>\n",
              "      <td>-73.953918</td>\n",
              "      <td>40.778873</td>\n",
              "      <td>-73.963875</td>\n",
              "      <td>40.771164</td>\n",
              "      <td>N</td>\n",
              "      <td>400</td>\n",
              "    </tr>\n",
              "    <tr>\n",
              "      <th>1</th>\n",
              "      <td>id0889885</td>\n",
              "      <td>1</td>\n",
              "      <td>2016-03-11 23:35:37</td>\n",
              "      <td>2016-03-11 23:53:57</td>\n",
              "      <td>2</td>\n",
              "      <td>-73.988312</td>\n",
              "      <td>40.731743</td>\n",
              "      <td>-73.994751</td>\n",
              "      <td>40.694931</td>\n",
              "      <td>N</td>\n",
              "      <td>1100</td>\n",
              "    </tr>\n",
              "    <tr>\n",
              "      <th>2</th>\n",
              "      <td>id0857912</td>\n",
              "      <td>2</td>\n",
              "      <td>2016-02-21 17:59:33</td>\n",
              "      <td>2016-02-21 18:26:48</td>\n",
              "      <td>2</td>\n",
              "      <td>-73.997314</td>\n",
              "      <td>40.721458</td>\n",
              "      <td>-73.948029</td>\n",
              "      <td>40.774918</td>\n",
              "      <td>N</td>\n",
              "      <td>1635</td>\n",
              "    </tr>\n",
              "    <tr>\n",
              "      <th>3</th>\n",
              "      <td>id3744273</td>\n",
              "      <td>2</td>\n",
              "      <td>2016-01-05 09:44:31</td>\n",
              "      <td>2016-01-05 10:03:32</td>\n",
              "      <td>6</td>\n",
              "      <td>-73.961670</td>\n",
              "      <td>40.759720</td>\n",
              "      <td>-73.956779</td>\n",
              "      <td>40.780628</td>\n",
              "      <td>N</td>\n",
              "      <td>1141</td>\n",
              "    </tr>\n",
              "    <tr>\n",
              "      <th>4</th>\n",
              "      <td>id0232939</td>\n",
              "      <td>1</td>\n",
              "      <td>2016-02-17 06:42:23</td>\n",
              "      <td>2016-02-17 06:56:31</td>\n",
              "      <td>1</td>\n",
              "      <td>-74.017120</td>\n",
              "      <td>40.708469</td>\n",
              "      <td>-73.988182</td>\n",
              "      <td>40.740631</td>\n",
              "      <td>N</td>\n",
              "      <td>848</td>\n",
              "    </tr>\n",
              "  </tbody>\n",
              "</table>\n",
              "</div>\n",
              "      <button class=\"colab-df-convert\" onclick=\"convertToInteractive('df-6fddd299-1c22-4b02-94c0-0d438cae27fe')\"\n",
              "              title=\"Convert this dataframe to an interactive table.\"\n",
              "              style=\"display:none;\">\n",
              "        \n",
              "  <svg xmlns=\"http://www.w3.org/2000/svg\" height=\"24px\"viewBox=\"0 0 24 24\"\n",
              "       width=\"24px\">\n",
              "    <path d=\"M0 0h24v24H0V0z\" fill=\"none\"/>\n",
              "    <path d=\"M18.56 5.44l.94 2.06.94-2.06 2.06-.94-2.06-.94-.94-2.06-.94 2.06-2.06.94zm-11 1L8.5 8.5l.94-2.06 2.06-.94-2.06-.94L8.5 2.5l-.94 2.06-2.06.94zm10 10l.94 2.06.94-2.06 2.06-.94-2.06-.94-.94-2.06-.94 2.06-2.06.94z\"/><path d=\"M17.41 7.96l-1.37-1.37c-.4-.4-.92-.59-1.43-.59-.52 0-1.04.2-1.43.59L10.3 9.45l-7.72 7.72c-.78.78-.78 2.05 0 2.83L4 21.41c.39.39.9.59 1.41.59.51 0 1.02-.2 1.41-.59l7.78-7.78 2.81-2.81c.8-.78.8-2.07 0-2.86zM5.41 20L4 18.59l7.72-7.72 1.47 1.35L5.41 20z\"/>\n",
              "  </svg>\n",
              "      </button>\n",
              "      \n",
              "  <style>\n",
              "    .colab-df-container {\n",
              "      display:flex;\n",
              "      flex-wrap:wrap;\n",
              "      gap: 12px;\n",
              "    }\n",
              "\n",
              "    .colab-df-convert {\n",
              "      background-color: #E8F0FE;\n",
              "      border: none;\n",
              "      border-radius: 50%;\n",
              "      cursor: pointer;\n",
              "      display: none;\n",
              "      fill: #1967D2;\n",
              "      height: 32px;\n",
              "      padding: 0 0 0 0;\n",
              "      width: 32px;\n",
              "    }\n",
              "\n",
              "    .colab-df-convert:hover {\n",
              "      background-color: #E2EBFA;\n",
              "      box-shadow: 0px 1px 2px rgba(60, 64, 67, 0.3), 0px 1px 3px 1px rgba(60, 64, 67, 0.15);\n",
              "      fill: #174EA6;\n",
              "    }\n",
              "\n",
              "    [theme=dark] .colab-df-convert {\n",
              "      background-color: #3B4455;\n",
              "      fill: #D2E3FC;\n",
              "    }\n",
              "\n",
              "    [theme=dark] .colab-df-convert:hover {\n",
              "      background-color: #434B5C;\n",
              "      box-shadow: 0px 1px 3px 1px rgba(0, 0, 0, 0.15);\n",
              "      filter: drop-shadow(0px 1px 2px rgba(0, 0, 0, 0.3));\n",
              "      fill: #FFFFFF;\n",
              "    }\n",
              "  </style>\n",
              "\n",
              "      <script>\n",
              "        const buttonEl =\n",
              "          document.querySelector('#df-6fddd299-1c22-4b02-94c0-0d438cae27fe button.colab-df-convert');\n",
              "        buttonEl.style.display =\n",
              "          google.colab.kernel.accessAllowed ? 'block' : 'none';\n",
              "\n",
              "        async function convertToInteractive(key) {\n",
              "          const element = document.querySelector('#df-6fddd299-1c22-4b02-94c0-0d438cae27fe');\n",
              "          const dataTable =\n",
              "            await google.colab.kernel.invokeFunction('convertToInteractive',\n",
              "                                                     [key], {});\n",
              "          if (!dataTable) return;\n",
              "\n",
              "          const docLinkHtml = 'Like what you see? Visit the ' +\n",
              "            '<a target=\"_blank\" href=https://colab.research.google.com/notebooks/data_table.ipynb>data table notebook</a>'\n",
              "            + ' to learn more about interactive tables.';\n",
              "          element.innerHTML = '';\n",
              "          dataTable['output_type'] = 'display_data';\n",
              "          await google.colab.output.renderOutput(dataTable, element);\n",
              "          const docLink = document.createElement('div');\n",
              "          docLink.innerHTML = docLinkHtml;\n",
              "          element.appendChild(docLink);\n",
              "        }\n",
              "      </script>\n",
              "    </div>\n",
              "  </div>\n",
              "  "
            ]
          },
          "metadata": {},
          "execution_count": 6
        }
      ]
    },
    {
      "cell_type": "code",
      "source": [
        "data.isnull().sum()"
      ],
      "metadata": {
        "colab": {
          "base_uri": "https://localhost:8080/",
          "height": 0
        },
        "id": "qU5inncN7gqd",
        "outputId": "41efa88c-93ad-45b7-9dbd-3cbd696a8a51"
      },
      "execution_count": 7,
      "outputs": [
        {
          "output_type": "execute_result",
          "data": {
            "text/plain": [
              "id                    0\n",
              "vendor_id             0\n",
              "pickup_datetime       0\n",
              "dropoff_datetime      0\n",
              "passenger_count       0\n",
              "pickup_longitude      0\n",
              "pickup_latitude       0\n",
              "dropoff_longitude     0\n",
              "dropoff_latitude      0\n",
              "store_and_fwd_flag    0\n",
              "trip_duration         0\n",
              "dtype: int64"
            ]
          },
          "metadata": {},
          "execution_count": 7
        }
      ]
    },
    {
      "cell_type": "code",
      "source": [
        "print (\"valores unicos de todas las columnas\")\n",
        "for column in data.columns:\n",
        "  unique_values=data[column].nunique()\n",
        "  print (f\"({column}:{unique_values}\")"
      ],
      "metadata": {
        "colab": {
          "base_uri": "https://localhost:8080/",
          "height": 0
        },
        "id": "frpBTNkz7ooN",
        "outputId": "bb185621-edf4-452e-f18b-035cca400080"
      },
      "execution_count": 8,
      "outputs": [
        {
          "output_type": "stream",
          "name": "stdout",
          "text": [
            "valores unicos de todas las columnas\n",
            "(id:729322\n",
            "(vendor_id:2\n",
            "(pickup_datetime:709359\n",
            "(dropoff_datetime:709308\n",
            "(passenger_count:9\n",
            "(pickup_longitude:19729\n",
            "(pickup_latitude:39776\n",
            "(dropoff_longitude:27892\n",
            "(dropoff_latitude:53579\n",
            "(store_and_fwd_flag:2\n",
            "(trip_duration:6296\n"
          ]
        }
      ]
    },
    {
      "cell_type": "code",
      "source": [
        "data.describe()"
      ],
      "metadata": {
        "colab": {
          "base_uri": "https://localhost:8080/",
          "height": 300
        },
        "id": "6SbDYfJB8YFW",
        "outputId": "ad0118d6-95f8-4638-dffc-69149faab7ef"
      },
      "execution_count": 9,
      "outputs": [
        {
          "output_type": "execute_result",
          "data": {
            "text/plain": [
              "           vendor_id  passenger_count  pickup_longitude  pickup_latitude  \\\n",
              "count  729322.000000    729322.000000     729322.000000    729322.000000   \n",
              "mean        1.535403         1.662055        -73.973513        40.750919   \n",
              "std         0.498745         1.312446          0.069754         0.033594   \n",
              "min         1.000000         0.000000       -121.933342        34.712234   \n",
              "25%         1.000000         1.000000        -73.991859        40.737335   \n",
              "50%         2.000000         1.000000        -73.981758        40.754070   \n",
              "75%         2.000000         2.000000        -73.967361        40.768314   \n",
              "max         2.000000         9.000000        -65.897385        51.881084   \n",
              "\n",
              "       dropoff_longitude  dropoff_latitude  trip_duration  \n",
              "count      729322.000000     729322.000000   7.293220e+05  \n",
              "mean          -73.973422         40.751775   9.522291e+02  \n",
              "std             0.069588          0.036037   3.864626e+03  \n",
              "min          -121.933304         32.181141   1.000000e+00  \n",
              "25%           -73.991318         40.735931   3.970000e+02  \n",
              "50%           -73.979759         40.754509   6.630000e+02  \n",
              "75%           -73.963036         40.769741   1.075000e+03  \n",
              "max           -65.897385         43.921028   1.939736e+06  "
            ],
            "text/html": [
              "\n",
              "  <div id=\"df-424f7633-9ef9-4196-a64d-ea22a59ad1bc\">\n",
              "    <div class=\"colab-df-container\">\n",
              "      <div>\n",
              "<style scoped>\n",
              "    .dataframe tbody tr th:only-of-type {\n",
              "        vertical-align: middle;\n",
              "    }\n",
              "\n",
              "    .dataframe tbody tr th {\n",
              "        vertical-align: top;\n",
              "    }\n",
              "\n",
              "    .dataframe thead th {\n",
              "        text-align: right;\n",
              "    }\n",
              "</style>\n",
              "<table border=\"1\" class=\"dataframe\">\n",
              "  <thead>\n",
              "    <tr style=\"text-align: right;\">\n",
              "      <th></th>\n",
              "      <th>vendor_id</th>\n",
              "      <th>passenger_count</th>\n",
              "      <th>pickup_longitude</th>\n",
              "      <th>pickup_latitude</th>\n",
              "      <th>dropoff_longitude</th>\n",
              "      <th>dropoff_latitude</th>\n",
              "      <th>trip_duration</th>\n",
              "    </tr>\n",
              "  </thead>\n",
              "  <tbody>\n",
              "    <tr>\n",
              "      <th>count</th>\n",
              "      <td>729322.000000</td>\n",
              "      <td>729322.000000</td>\n",
              "      <td>729322.000000</td>\n",
              "      <td>729322.000000</td>\n",
              "      <td>729322.000000</td>\n",
              "      <td>729322.000000</td>\n",
              "      <td>7.293220e+05</td>\n",
              "    </tr>\n",
              "    <tr>\n",
              "      <th>mean</th>\n",
              "      <td>1.535403</td>\n",
              "      <td>1.662055</td>\n",
              "      <td>-73.973513</td>\n",
              "      <td>40.750919</td>\n",
              "      <td>-73.973422</td>\n",
              "      <td>40.751775</td>\n",
              "      <td>9.522291e+02</td>\n",
              "    </tr>\n",
              "    <tr>\n",
              "      <th>std</th>\n",
              "      <td>0.498745</td>\n",
              "      <td>1.312446</td>\n",
              "      <td>0.069754</td>\n",
              "      <td>0.033594</td>\n",
              "      <td>0.069588</td>\n",
              "      <td>0.036037</td>\n",
              "      <td>3.864626e+03</td>\n",
              "    </tr>\n",
              "    <tr>\n",
              "      <th>min</th>\n",
              "      <td>1.000000</td>\n",
              "      <td>0.000000</td>\n",
              "      <td>-121.933342</td>\n",
              "      <td>34.712234</td>\n",
              "      <td>-121.933304</td>\n",
              "      <td>32.181141</td>\n",
              "      <td>1.000000e+00</td>\n",
              "    </tr>\n",
              "    <tr>\n",
              "      <th>25%</th>\n",
              "      <td>1.000000</td>\n",
              "      <td>1.000000</td>\n",
              "      <td>-73.991859</td>\n",
              "      <td>40.737335</td>\n",
              "      <td>-73.991318</td>\n",
              "      <td>40.735931</td>\n",
              "      <td>3.970000e+02</td>\n",
              "    </tr>\n",
              "    <tr>\n",
              "      <th>50%</th>\n",
              "      <td>2.000000</td>\n",
              "      <td>1.000000</td>\n",
              "      <td>-73.981758</td>\n",
              "      <td>40.754070</td>\n",
              "      <td>-73.979759</td>\n",
              "      <td>40.754509</td>\n",
              "      <td>6.630000e+02</td>\n",
              "    </tr>\n",
              "    <tr>\n",
              "      <th>75%</th>\n",
              "      <td>2.000000</td>\n",
              "      <td>2.000000</td>\n",
              "      <td>-73.967361</td>\n",
              "      <td>40.768314</td>\n",
              "      <td>-73.963036</td>\n",
              "      <td>40.769741</td>\n",
              "      <td>1.075000e+03</td>\n",
              "    </tr>\n",
              "    <tr>\n",
              "      <th>max</th>\n",
              "      <td>2.000000</td>\n",
              "      <td>9.000000</td>\n",
              "      <td>-65.897385</td>\n",
              "      <td>51.881084</td>\n",
              "      <td>-65.897385</td>\n",
              "      <td>43.921028</td>\n",
              "      <td>1.939736e+06</td>\n",
              "    </tr>\n",
              "  </tbody>\n",
              "</table>\n",
              "</div>\n",
              "      <button class=\"colab-df-convert\" onclick=\"convertToInteractive('df-424f7633-9ef9-4196-a64d-ea22a59ad1bc')\"\n",
              "              title=\"Convert this dataframe to an interactive table.\"\n",
              "              style=\"display:none;\">\n",
              "        \n",
              "  <svg xmlns=\"http://www.w3.org/2000/svg\" height=\"24px\"viewBox=\"0 0 24 24\"\n",
              "       width=\"24px\">\n",
              "    <path d=\"M0 0h24v24H0V0z\" fill=\"none\"/>\n",
              "    <path d=\"M18.56 5.44l.94 2.06.94-2.06 2.06-.94-2.06-.94-.94-2.06-.94 2.06-2.06.94zm-11 1L8.5 8.5l.94-2.06 2.06-.94-2.06-.94L8.5 2.5l-.94 2.06-2.06.94zm10 10l.94 2.06.94-2.06 2.06-.94-2.06-.94-.94-2.06-.94 2.06-2.06.94z\"/><path d=\"M17.41 7.96l-1.37-1.37c-.4-.4-.92-.59-1.43-.59-.52 0-1.04.2-1.43.59L10.3 9.45l-7.72 7.72c-.78.78-.78 2.05 0 2.83L4 21.41c.39.39.9.59 1.41.59.51 0 1.02-.2 1.41-.59l7.78-7.78 2.81-2.81c.8-.78.8-2.07 0-2.86zM5.41 20L4 18.59l7.72-7.72 1.47 1.35L5.41 20z\"/>\n",
              "  </svg>\n",
              "      </button>\n",
              "      \n",
              "  <style>\n",
              "    .colab-df-container {\n",
              "      display:flex;\n",
              "      flex-wrap:wrap;\n",
              "      gap: 12px;\n",
              "    }\n",
              "\n",
              "    .colab-df-convert {\n",
              "      background-color: #E8F0FE;\n",
              "      border: none;\n",
              "      border-radius: 50%;\n",
              "      cursor: pointer;\n",
              "      display: none;\n",
              "      fill: #1967D2;\n",
              "      height: 32px;\n",
              "      padding: 0 0 0 0;\n",
              "      width: 32px;\n",
              "    }\n",
              "\n",
              "    .colab-df-convert:hover {\n",
              "      background-color: #E2EBFA;\n",
              "      box-shadow: 0px 1px 2px rgba(60, 64, 67, 0.3), 0px 1px 3px 1px rgba(60, 64, 67, 0.15);\n",
              "      fill: #174EA6;\n",
              "    }\n",
              "\n",
              "    [theme=dark] .colab-df-convert {\n",
              "      background-color: #3B4455;\n",
              "      fill: #D2E3FC;\n",
              "    }\n",
              "\n",
              "    [theme=dark] .colab-df-convert:hover {\n",
              "      background-color: #434B5C;\n",
              "      box-shadow: 0px 1px 3px 1px rgba(0, 0, 0, 0.15);\n",
              "      filter: drop-shadow(0px 1px 2px rgba(0, 0, 0, 0.3));\n",
              "      fill: #FFFFFF;\n",
              "    }\n",
              "  </style>\n",
              "\n",
              "      <script>\n",
              "        const buttonEl =\n",
              "          document.querySelector('#df-424f7633-9ef9-4196-a64d-ea22a59ad1bc button.colab-df-convert');\n",
              "        buttonEl.style.display =\n",
              "          google.colab.kernel.accessAllowed ? 'block' : 'none';\n",
              "\n",
              "        async function convertToInteractive(key) {\n",
              "          const element = document.querySelector('#df-424f7633-9ef9-4196-a64d-ea22a59ad1bc');\n",
              "          const dataTable =\n",
              "            await google.colab.kernel.invokeFunction('convertToInteractive',\n",
              "                                                     [key], {});\n",
              "          if (!dataTable) return;\n",
              "\n",
              "          const docLinkHtml = 'Like what you see? Visit the ' +\n",
              "            '<a target=\"_blank\" href=https://colab.research.google.com/notebooks/data_table.ipynb>data table notebook</a>'\n",
              "            + ' to learn more about interactive tables.';\n",
              "          element.innerHTML = '';\n",
              "          dataTable['output_type'] = 'display_data';\n",
              "          await google.colab.output.renderOutput(dataTable, element);\n",
              "          const docLink = document.createElement('div');\n",
              "          docLink.innerHTML = docLinkHtml;\n",
              "          element.appendChild(docLink);\n",
              "        }\n",
              "      </script>\n",
              "    </div>\n",
              "  </div>\n",
              "  "
            ]
          },
          "metadata": {},
          "execution_count": 9
        }
      ]
    },
    {
      "cell_type": "code",
      "source": [
        "# Seleccionar las características relevantes\n",
        "selected_features = ['passenger_count', 'pickup_longitude', 'pickup_latitude', 'dropoff_longitude', 'dropoff_latitude', 'store_and_fwd_flag']"
      ],
      "metadata": {
        "id": "1x9OtEmxhiKY"
      },
      "execution_count": 10,
      "outputs": []
    },
    {
      "cell_type": "code",
      "source": [
        "# Crear el conjunto de características X y la variable objetivo y\n",
        "X = data[selected_features]\n",
        "y = data['trip_duration']"
      ],
      "metadata": {
        "id": "jRv7uJKnhpQq"
      },
      "execution_count": 37,
      "outputs": []
    },
    {
      "cell_type": "code",
      "source": [
        "# Codificar la característica 'store_and_fwd_flag' utilizando one-hot encoding\n",
        "X_encoded = pd.get_dummies(X, columns=['store_and_fwd_flag'], drop_first=True)\n",
        "\n",
        "# Dividir el conjunto de datos en entrenamiento y prueba\n",
        "X_train, X_test, y_train, y_test = train_test_split(X_encoded, y, test_size=0.2, random_state=42)\n",
        "\n"
      ],
      "metadata": {
        "id": "KVM2ognWhv3M"
      },
      "execution_count": 38,
      "outputs": []
    },
    {
      "cell_type": "code",
      "source": [
        "# Modelo de regresión lineal\n",
        "linear_model = LinearRegression()\n",
        "linear_model.fit(X_train, y_train)\n",
        "linear_predictions = linear_model.predict(X_test)\n",
        "\n",
        "# Calcular el MSE y RMSE para el modelo de regresión lineal\n",
        "mse_linear = mean_squared_error(y_test, linear_predictions)\n",
        "rmse_linear = np.sqrt(mse_linear)\n",
        "\n",
        "print(\"Modelo de regresión lineal:\")\n",
        "print(\"RMSE:\", rmse_linear)\n",
        "print(\"MSE:\", mse_linear)"
      ],
      "metadata": {
        "colab": {
          "base_uri": "https://localhost:8080/"
        },
        "id": "e-qby28X9Po9",
        "outputId": "f466737f-9242-4edc-e01a-4ae14baab35a"
      },
      "execution_count": 39,
      "outputs": [
        {
          "output_type": "stream",
          "name": "stdout",
          "text": [
            "Modelo de regresión lineal:\n",
            "RMSE: 5906.083639674397\n",
            "MSE: 34881823.958829574\n"
          ]
        }
      ]
    },
    {
      "cell_type": "code",
      "source": [
        "# Modelo de regresión Ridge\n",
        "ridge_model = Ridge()\n",
        "ridge_model.fit(X_train, y_train)\n",
        "ridge_predictions = ridge_model.predict(X_test)\n",
        "\n",
        "# Calcular el MSE y RMSE para el modelo de regresión Ridge\n",
        "mse_ridge = mean_squared_error(y_test, ridge_predictions)\n",
        "rmse_ridge = np.sqrt(mse_ridge)\n",
        "\n",
        "print(\"\\nModelo de regresión Ridge:\")\n",
        "print(\"RMSE:\", rmse_ridge)\n",
        "print(\"MSE:\", mse_ridge)"
      ],
      "metadata": {
        "id": "p9406fnSiZLT",
        "colab": {
          "base_uri": "https://localhost:8080/"
        },
        "outputId": "dcdc312d-8323-4db2-cd48-81fbca4ccd27"
      },
      "execution_count": 40,
      "outputs": [
        {
          "output_type": "stream",
          "name": "stdout",
          "text": [
            "\n",
            "Modelo de regresión Ridge:\n",
            "RMSE: 5906.086265626326\n",
            "MSE: 34881854.97701992\n"
          ]
        }
      ]
    },
    {
      "cell_type": "code",
      "source": [
        "# Modelo de regresión Lasso\n",
        "lasso_model = Lasso()\n",
        "lasso_model.fit(X_train, y_train)\n",
        "lasso_predictions = lasso_model.predict(X_test)\n",
        "\n",
        "# Calcular el MSE y RMSE para el modelo de regresión Lasso\n",
        "mse_lasso = mean_squared_error(y_test, lasso_predictions)\n",
        "rmse_lasso = np.sqrt(mse_lasso)\n",
        "\n",
        "print(\"\\nModelo de regresión Lasso:\")\n",
        "print(\"RMSE:\", rmse_lasso)\n",
        "print(\"MSE:\", mse_lasso)"
      ],
      "metadata": {
        "colab": {
          "base_uri": "https://localhost:8080/"
        },
        "id": "1IpSqjDY9Vzu",
        "outputId": "5e0b5562-9f01-4c5b-9c82-d1a263765860"
      },
      "execution_count": 41,
      "outputs": [
        {
          "output_type": "stream",
          "name": "stdout",
          "text": [
            "\n",
            "Modelo de regresión Lasso:\n",
            "RMSE: 5906.752353271487\n",
            "MSE: 34889723.36287825\n"
          ]
        }
      ]
    },
    {
      "cell_type": "code",
      "source": [
        "# Ajuste de hiperparámetros del mejor modelo\n",
        "parameters = {'alpha': [0.1, 1.0, 10.0]}\n",
        "best_model = Ridge()\n",
        "grid_search = GridSearchCV(best_model, parameters, cv=5)\n",
        "grid_search.fit(X_train, y_train)\n",
        "best_model = grid_search.best_estimator_"
      ],
      "metadata": {
        "id": "vcodppznif4D"
      },
      "execution_count": 42,
      "outputs": []
    },
    {
      "cell_type": "code",
      "source": [
        "# Listar las características más importantes\n",
        "feature_importances = pd.Series(best_model.coef_, index=X.columns).abs().sort_values(ascending=False)\n",
        "print(\"Características más importantes:\")\n",
        "print(feature_importances)"
      ],
      "metadata": {
        "colab": {
          "base_uri": "https://localhost:8080/"
        },
        "id": "llJ6xoChijKU",
        "outputId": "2607847c-d78d-45cc-8ab4-3dd76be7306a"
      },
      "execution_count": 43,
      "outputs": [
        {
          "output_type": "stream",
          "name": "stdout",
          "text": [
            "Características más importantes:\n",
            "pickup_latitude       3006.317254\n",
            "pickup_longitude      2242.448102\n",
            "dropoff_latitude      1982.048349\n",
            "dropoff_longitude      513.884879\n",
            "store_and_fwd_flag     113.737887\n",
            "passenger_count         40.010779\n",
            "dtype: float64\n"
          ]
        }
      ]
    },
    {
      "cell_type": "code",
      "source": [
        "# Backtesting del mejor modelo\n",
        "best_model_predictions = best_model.predict(X_test)\n",
        "mse = mean_squared_error(y_test, best_model_predictions)\n",
        "rmse = np.sqrt(mse)\n",
        "print(\"RMSE del mejor modelo:\", rmse)"
      ],
      "metadata": {
        "colab": {
          "base_uri": "https://localhost:8080/"
        },
        "id": "Opwa6wIGioOa",
        "outputId": "4928ff31-5492-4c89-b046-f5e95d6733db"
      },
      "execution_count": 44,
      "outputs": [
        {
          "output_type": "stream",
          "name": "stdout",
          "text": [
            "RMSE del mejor modelo: 5906.109810290876\n"
          ]
        }
      ]
    },
    {
      "cell_type": "code",
      "source": [
        "# Conclusiones\n",
        "\"\"\"\n",
        "El mejor modelo de regresión lineal con Ridge muestra un RMSE de 5906.109810290876, lo que indica que el modelo tiene una capacidad razonable para predecir la duración de los viajes en la ciudad de Nueva York. Las características más importantes para el modelo son\n",
        "pickup_latitude       3006.317254\n",
        "pickup_longitude      2242.448102\n",
        "dropoff_latitude      1982.048349\n",
        "dropoff_longitude      513.884879\n",
        "store_and_fwd_flag     113.737887\n",
        "passenger_count         40.010779.\n",
        "\"\"\""
      ],
      "metadata": {
        "colab": {
          "base_uri": "https://localhost:8080/",
          "height": 70
        },
        "id": "pPktzmMmjgyk",
        "outputId": "7d8e4f71-4dc7-4513-acc9-135c45b4dc4d"
      },
      "execution_count": 33,
      "outputs": [
        {
          "output_type": "execute_result",
          "data": {
            "text/plain": [
              "'\\nEl mejor modelo de regresión lineal con Ridge muestra un RMSE de 5906.109810290876, lo que indica que el modelo tiene una capacidad razonable para predecir la duración de los viajes en la ciudad de Nueva York. Las características más importantes para el modelo son\\npickup_latitude       3006.317254\\npickup_longitude      2242.448102\\ndropoff_latitude      1982.048349\\ndropoff_longitude      513.884879\\nstore_and_fwd_flag     113.737887\\npassenger_count         40.010779.\\n'"
            ],
            "application/vnd.google.colaboratory.intrinsic+json": {
              "type": "string"
            }
          },
          "metadata": {},
          "execution_count": 33
        }
      ]
    }
  ]
}